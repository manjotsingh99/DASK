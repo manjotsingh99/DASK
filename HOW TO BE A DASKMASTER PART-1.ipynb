{
 "cells": [
  {
   "cell_type": "markdown",
   "metadata": {},
   "source": [
    "# How to be a DaskMaster PART-1"
   ]
  },
  {
   "cell_type": "markdown",
   "metadata": {},
   "source": [
    "# Definition of Dask:\n",
    "Dask is an open-source library for parallel computing, written in Python. Originally developed by bleh bleh… (You really don’t wanna know about it, do you?)\n",
    "\n",
    "My blog will walk you through what Dask is so that you don’t waste your precious time on grasping it and wondering what the definition is.\n",
    "\n",
    "Let’s just assume that you have the world’s best computer, with a great processor and ample RAM. Yet, you can’t run your model which uses a HUGE dataset (think numerous columns and an infinite number of rows)! You may run your whole notebook on the server, which will cost you a fortune.\n",
    "\n",
    "This is where Dask comes in. It helps you to provide parallelism and can help you compute your data in hours or even in minutes. This saves you from spending a whole lot of money on the server (which can be put to better use for buying a Netflix subscription)"
   ]
  },
  {
   "cell_type": "markdown",
   "metadata": {},
   "source": [
    "# Join The Wonderful Journey Of Using Dask On Big Datasets.\n",
    "First off, we must have a better understanding of the working of Dask on a few lines of code. Boring stuff coming in 3..2..1."
   ]
  },
  {
   "cell_type": "code",
   "execution_count": 1,
   "metadata": {},
   "outputs": [],
   "source": [
    "import dask.dataframe as dd"
   ]
  },
  {
   "cell_type": "code",
   "execution_count": 3,
   "metadata": {},
   "outputs": [],
   "source": [
    "from time import sleep\n",
    "\n",
    "def inc(x):\n",
    "    sleep(1)\n",
    "    return x + 1\n",
    "def add(x,y):\n",
    "    sleep(1)\n",
    "    return x+y"
   ]
  },
  {
   "cell_type": "code",
   "execution_count": 4,
   "metadata": {},
   "outputs": [
    {
     "name": "stdout",
     "output_type": "stream",
     "text": [
      "CPU times: user 0 ns, sys: 2.18 ms, total: 2.18 ms\n",
      "Wall time: 3 s\n"
     ]
    },
    {
     "data": {
      "text/plain": [
       "5"
      ]
     },
     "execution_count": 4,
     "metadata": {},
     "output_type": "execute_result"
    }
   ],
   "source": [
    "%%time\n",
    "x=inc(1)\n",
    "y=inc(2)\n",
    "z=add(x,y)\n",
    "z"
   ]
  },
  {
   "cell_type": "markdown",
   "metadata": {},
   "source": [
    "This is a basic python code, with 2 functions. One is an incrementing function and the other is an addition function. But that’s not the main point..\n",
    "The main point is the execution time of this code. It will take around 2.5–3.11 seconds depending on the processing of your “LAPTOPS’.\n",
    "Now we will see Dask or as I like to call it, parallel code."
   ]
  },
  {
   "cell_type": "markdown",
   "metadata": {},
   "source": [
    "# Remember to install the Dask libraries to see the below code in working!\n",
    "As I am assuming you have all the libraries installed."
   ]
  },
  {
   "cell_type": "code",
   "execution_count": 5,
   "metadata": {},
   "outputs": [],
   "source": [
    "from dask import delayed"
   ]
  },
  {
   "cell_type": "code",
   "execution_count": 6,
   "metadata": {},
   "outputs": [],
   "source": [
    "from dask import delayed\n",
    "x=delayed(inc)(1)\n",
    "y=delayed(inc)(2)\n",
    "z=delayed(add)(x,y) #now here z is a \"thunk\" object"
   ]
  },
  {
   "cell_type": "code",
   "execution_count": 7,
   "metadata": {},
   "outputs": [
    {
     "data": {
      "text/plain": [
       "Delayed('add-dd0058cd-7d2f-4dad-8fed-02e0f8d6c2a7')"
      ]
     },
     "execution_count": 7,
     "metadata": {},
     "output_type": "execute_result"
    }
   ],
   "source": [
    "z"
   ]
  },
  {
   "cell_type": "markdown",
   "metadata": {},
   "source": [
    "# What is delayed?? What is “Thunk”??Why I am getting that output??\n",
    "* The Dask delayed function decorates your functions so that they operate lazily. Rather than executing your function immediately, it will defer execution.\n",
    "* ‘Thunk’ is a keyword which we use in reference to lazy execution. Basically, Dask does ‘lazy’ computing.\n",
    "* When you are making a delayed (inc), the output will not be printed but will execute partially.\n",
    "* Instead of executing x and y sequentially, both get executed simultaneously, upon calling Compute( ).\n",
    "* This evidently saves time. When you execute the code z.Compute(), then the output gets printed."
   ]
  },
  {
   "cell_type": "code",
   "execution_count": 8,
   "metadata": {},
   "outputs": [
    {
     "name": "stdout",
     "output_type": "stream",
     "text": [
      "CPU times: user 10.6 ms, sys: 3.69 ms, total: 14.3 ms\n",
      "Wall time: 2.03 s\n"
     ]
    },
    {
     "data": {
      "text/plain": [
       "5"
      ]
     },
     "execution_count": 8,
     "metadata": {},
     "output_type": "execute_result"
    }
   ],
   "source": [
    "%%time\n",
    "z.compute()"
   ]
  },
  {
   "cell_type": "markdown",
   "metadata": {},
   "source": [
    "1. So Dask basically executes the x and y simultaneously or I say parallelly. and that will save you time. The running time would be less than the previous time of the python code.\n",
    "2. BUT the time difference is 0 if you remove the Sleep function.\n",
    "3. Keep in your head that the above code is just to explain the working and to show you how dask actually works. The time difference will get significant when dealing with HUGE datasets.\n",
    "4. Now time for some visual action you can see in dask and understand correctly that what the deal is!!?.\n",
    "for that, we first have to create a Client that will redirect us to the Task Graph window. Task Graph is a status bar where you can see the backend of the dask functionalities and you can see other things too."
   ]
  },
  {
   "cell_type": "code",
   "execution_count": 9,
   "metadata": {},
   "outputs": [
    {
     "data": {
      "text/html": [
       "<table style=\"border: 2px solid white;\">\n",
       "<tr>\n",
       "<td style=\"vertical-align: top; border: 0px solid white\">\n",
       "<h3 style=\"text-align: left;\">Client</h3>\n",
       "<ul style=\"text-align: left; list-style: none; margin: 0; padding: 0;\">\n",
       "  <li><b>Scheduler: </b>tcp://127.0.0.1:36091</li>\n",
       "  <li><b>Dashboard: </b><a href='http://127.0.0.1:8787/status' target='_blank'>http://127.0.0.1:8787/status</a></li>\n",
       "</ul>\n",
       "</td>\n",
       "<td style=\"vertical-align: top; border: 0px solid white\">\n",
       "<h3 style=\"text-align: left;\">Cluster</h3>\n",
       "<ul style=\"text-align: left; list-style:none; margin: 0; padding: 0;\">\n",
       "  <li><b>Workers: </b>2</li>\n",
       "  <li><b>Cores: </b>4</li>\n",
       "  <li><b>Memory: </b>2.00 GB</li>\n",
       "</ul>\n",
       "</td>\n",
       "</tr>\n",
       "</table>"
      ],
      "text/plain": [
       "<Client: 'tcp://127.0.0.1:36091' processes=2 threads=4, memory=2.00 GB>"
      ]
     },
     "execution_count": 9,
     "metadata": {},
     "output_type": "execute_result"
    }
   ],
   "source": [
    "from dask.distributed import Client, progress\n",
    "client = Client(n_workers=2, threads_per_worker=2, memory_limit='1GB')\n",
    "client"
   ]
  },
  {
   "cell_type": "markdown",
   "metadata": {},
   "source": [
    "This code will help you to generate a link to the Task graph. By clicking on this link, you can see how Dask is working."
   ]
  },
  {
   "cell_type": "markdown",
   "metadata": {},
   "source": [
    "Let’s get into more detail and try to understand the following code.\n",
    "for loop with the inc function — we are generating a list, and then getting ‘total’ with the help of sum function integration.\n",
    "Now is the time for the parallel code! But before running the code below, try to open the Task Window to see both tabs in front of you. Use: ‘Window + Left Arrow Key’."
   ]
  },
  {
   "cell_type": "code",
   "execution_count": 10,
   "metadata": {},
   "outputs": [
    {
     "name": "stdout",
     "output_type": "stream",
     "text": [
      "44\n"
     ]
    }
   ],
   "source": [
    "data=[1,2,3,4,5,6,7,8]\n",
    "results = []\n",
    "for x in data:\n",
    "    y = inc(x)\n",
    "    results.append(y)\n",
    "    \n",
    "total = sum(results)\n",
    "print(total)"
   ]
  },
  {
   "cell_type": "markdown",
   "metadata": {},
   "source": [
    "for loop with the delayed inc function. Then, computing the ‘total’\n",
    "After running this code, let’s see the Task Graph. Some movement is evident in the Task Graph."
   ]
  },
  {
   "cell_type": "code",
   "execution_count": null,
   "metadata": {},
   "outputs": [],
   "source": []
  },
  {
   "cell_type": "code",
   "execution_count": 11,
   "metadata": {},
   "outputs": [
    {
     "name": "stdout",
     "output_type": "stream",
     "text": [
      "Before computing: Delayed('sum-5f20a8e7-a1d3-4a89-b9a8-5212363b747a')\n",
      "After computing : 44\n"
     ]
    }
   ],
   "source": [
    "\n",
    "results = []\n",
    "\n",
    "for x in data:\n",
    "    y = delayed(inc)(x)\n",
    "    results.append(y)\n",
    "    \n",
    "total = delayed(sum)(results)\n",
    "print(\"Before computing:\", total)  # Let's see what type of thing total is\n",
    "result = total.compute()\n",
    "print(\"After computing :\", result)"
   ]
  },
  {
   "cell_type": "code",
   "execution_count": 14,
   "metadata": {},
   "outputs": [
    {
     "data": {
      "image/png": "[encoded data removed]",
      "text/plain": [
       "<IPython.core.display.Image object>"
      ]
     },
     "execution_count": 14,
     "metadata": {},
     "output_type": "execute_result"
    }
   ],
   "source": [
    "import graphviz\n",
    "total.visualize()\n",
    "###if this generates error then first execute \"pip install graphviz\"####"
   ]
  },
  {
   "cell_type": "code",
   "execution_count": 15,
   "metadata": {},
   "outputs": [
    {
     "data": {
      "image/png": "[encoded data removed]",
      "text/plain": [
       "<IPython.core.display.Image object>"
      ]
     },
     "execution_count": 15,
     "metadata": {},
     "output_type": "execute_result"
    }
   ],
   "source": [
    "total.visualize()"
   ]
  },
  {
   "cell_type": "code",
   "execution_count": 16,
   "metadata": {},
   "outputs": [],
   "source": [
    "client.close()"
   ]
  }
 ],
 "metadata": {
  "kernelspec": {
   "display_name": "Python 3",
   "language": "python",
   "name": "python3"
  },
  "language_info": {
   "codemirror_mode": {
    "name": "ipython",
    "version": 3
   },
   "file_extension": ".py",
   "mimetype": "text/x-python",
   "name": "python",
   "nbconvert_exporter": "python",
   "pygments_lexer": "ipython3",
   "version": "3.8.5"
  }
 },
 "nbformat": 4,
 "nbformat_minor": 2
}
